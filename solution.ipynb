{
 "cells": [
  {
   "cell_type": "markdown",
   "metadata": {},
   "source": [
    "# Eigenvalue problem"
   ]
  },
  {
   "cell_type": "code",
   "execution_count": 50,
   "metadata": {},
   "outputs": [],
   "source": [
    "import numpy as np\n",
    "np.set_printoptions(precision=3)\n",
    "np.set_printoptions(suppress=True)\n",
    "import math"
   ]
  },
  {
   "cell_type": "markdown",
   "metadata": {},
   "source": [
    "### Initial tests:\n",
    "\n",
    "Given the matrix A above:"
   ]
  },
  {
   "cell_type": "code",
   "execution_count": 51,
   "metadata": {},
   "outputs": [],
   "source": [
    "A = np.array([[3, 4, 0],\n",
    "              [4, 3, 0],\n",
    "              [0, 0, 2]])"
   ]
  },
  {
   "cell_type": "markdown",
   "metadata": {},
   "source": [
    "Solving the characteristic equation `det(A - λI) = 0` we get the following eigenvalues:"
   ]
  },
  {
   "cell_type": "code",
   "execution_count": 40,
   "metadata": {},
   "outputs": [],
   "source": [
    "lambda1 = -1\n",
    "lambda2 = 2\n",
    "lambda3 = 7"
   ]
  },
  {
   "cell_type": "markdown",
   "metadata": {},
   "source": [
    "Then, replacing those eigenvalues in `Ax = λx` we get the following normalized associated eigenvectors:"
   ]
  },
  {
   "cell_type": "code",
   "execution_count": 41,
   "metadata": {},
   "outputs": [],
   "source": [
    "# associated with lambda1 = -1\n",
    "x1 = np.array([0.707,\n",
    "              -0.707,\n",
    "               0.])\n",
    "\n",
    "\n",
    "# associated with lambda2 = 2\n",
    "x2 = np.array([0.,\n",
    "               0.,\n",
    "               1.])\n",
    "\n",
    "# associated with lambda3 = 7\n",
    "x3 = np.array([0.707,\n",
    "               0.707,\n",
    "               0.])\n"
   ]
  },
  {
   "cell_type": "markdown",
   "metadata": {},
   "source": [
    "Now that we have the exact solution, we'll use the QR method to find an approximate solution by leveraging the Householder transformations. But first, let's define some helper functions:"
   ]
  },
  {
   "cell_type": "code",
   "execution_count": 42,
   "metadata": {},
   "outputs": [],
   "source": [
    "def multiply_by_scalar(matrix, scalar):\n",
    "    result = np.zeros(shape=dimension_of(matrix))\n",
    "    for i in range(len(matrix)):\n",
    "        for j in range(len(matrix[0])):\n",
    "            result[i][j] = scalar * matrix[i][j]\n",
    "    return result    \n",
    "\n",
    "def scalar_product(a, b):\n",
    "    result = 0\n",
    "    for i in range(len(a[0])):\n",
    "        result += a[0][i]*b[0][i]\n",
    "    return result\n",
    "\n",
    "def multiply_matrixes(a, b):\n",
    "    m,n = dimension_of(a)\n",
    "    _,p = dimension_of(b)\n",
    "    result = np.zeros(shape=(m,p))\n",
    "    for i in range(m):\n",
    "        for j in range(p):\n",
    "            for k in range(n):\n",
    "                result[i][j] += a[i][k] * b[k][j]\n",
    "    return result                          \n",
    "\n",
    "def nth_identity(n):\n",
    "    return np.identity(n)\n",
    "\n",
    "def sum_matrixes(a, b):\n",
    "    result = np.zeros(shape=dimension_of(a))\n",
    "    for i in range(len(a)):\n",
    "        for j in range(len(a[0])):\n",
    "            result[i][j] += a[i][j] + b[i][j]\n",
    "    return result\n",
    "    \n",
    "def dimension_of(matrix):\n",
    "    return matrix.shape\n",
    "\n",
    "def nth_canonical_form(n, dimension):\n",
    "    zeros = np.zeros((1,dimension[1]))\n",
    "    zeros[0][n-1] = 1\n",
    "    return zeros\n",
    "\n",
    "def norm(v):\n",
    "    sum_square = 0\n",
    "    for i in v[0]:\n",
    "        sum_square += math.pow(i, 2)\n",
    "    return math.sqrt(sum_square)\n",
    "\n",
    "def compute_sigma(a): # by convention we're using the signal of first element\n",
    "    if a[0][0] >= 0:\n",
    "        return 1\n",
    "    return -1\n",
    "\n",
    "def compute_vi(A, i): # computes vi for finding the householder matrix\n",
    "    ai = np.array([A[:, i - 1]])\n",
    "    ei = nth_canonical_form(i, dimension_of(A))\n",
    "    sigma = compute_sigma(ai)\n",
    "    return sum_matrixes(ai, multiply_by_scalar(ei, sigma*(norm(ai))))\n",
    "\n",
    "def compute_hi(A, i): # computes householder matrix for a given index\n",
    "    vi = compute_vi(A, i)\n",
    "    scalar = -2/scalar_product(vi,vi)\n",
    "    matrix = multiply_matrixes(vi.transpose(), vi)\n",
    "    identity = nth_identity(dimension_of(A)[0])\n",
    "    return sum_matrixes(identity, multiply_by_scalar(matrix, scalar))\n",
    "\n",
    "def compute_h_list(A): # computes all householder matrixes from i = 1 to i = n-1\n",
    "    Ai = np.copy(A)\n",
    "    result = []\n",
    "    for i in range(1, len(A)):\n",
    "        Hi = compute_hi(Ai, i)\n",
    "        result.append(Hi)\n",
    "        Ai = multiply_matrixes(Hi, Ai)\n",
    "    return result\n",
    "\n",
    "def compute_qi(H_list):\n",
    "    Q = nth_identity(len(H_list[0]))\n",
    "    for i in range(len(H_list)):\n",
    "        Q = multiply_matrixes(Q, H_list[i])\n",
    "    return Q\n",
    "        \n",
    "def compute_ri(H_list, A):        \n",
    "    R = nth_identity(len(A))\n",
    "    for i in range(len(H_list)):\n",
    "        R = multiply_matrixes(R, H_list[len(H_list) - i -1])        \n",
    "    return multiply_matrixes(R, A)"
   ]
  },
  {
   "cell_type": "markdown",
   "metadata": {},
   "source": [
    "Now, we can define the QR factorization function as below:"
   ]
  },
  {
   "cell_type": "code",
   "execution_count": 43,
   "metadata": {},
   "outputs": [],
   "source": [
    "def qr_factorization(A, iterations):\n",
    "    Ai = np.copy(A)\n",
    "    Qi = nth_identity(dimension_of(A)[0])\n",
    "    Vi = np.copy(Qi)\n",
    "    for i in range(1,iterations+1):\n",
    "        H_list = compute_h_list(Ai)       \n",
    "        Ri = compute_ri(H_list, Ai)\n",
    "        Qi = compute_qi(H_list)\n",
    "        Vi = multiply_matrixes(Vi, Qi)\n",
    "        Ai = multiply_matrixes(Ri, Qi)\n",
    "    return Ai, Vi"
   ]
  },
  {
   "cell_type": "code",
   "execution_count": 44,
   "metadata": {},
   "outputs": [
    {
     "name": "stdout",
     "output_type": "stream",
     "text": [
      "[[-1.  0.  0.]\n",
      " [ 0.  7.  0.]\n",
      " [ 0.  0.  2.]]\n",
      "[[-0.707 -0.707  0.   ]\n",
      " [ 0.707 -0.707  0.   ]\n",
      " [ 0.     0.     1.   ]]\n"
     ]
    }
   ],
   "source": [
    "result = qr_factorization(A, 100)\n",
    "print(result[0]) # matrix where the main diagonal elements are the eigenvalues\n",
    "print(result[1]) # matrix where the columns are the eigenvectors (if A is symetric)"
   ]
  },
  {
   "cell_type": "markdown",
   "metadata": {},
   "source": [
    "We can see that the main diagonal elements of the first matrix correspond to the eigenvalues calculated beforehand (-1, 2 and 7) and the columns in the second matrix matches the eigenvectors previously calculated as well."
   ]
  },
  {
   "cell_type": "markdown",
   "metadata": {},
   "source": [
    "Now, let's take another test, this time with a non symetric matrix:"
   ]
  },
  {
   "cell_type": "code",
   "execution_count": 127,
   "metadata": {},
   "outputs": [],
   "source": [
    "A = np.array([[3, 4, 0],\n",
    "              [1, 3, 0],\n",
    "              [0, 0, 2]])"
   ]
  },
  {
   "cell_type": "markdown",
   "metadata": {},
   "source": [
    "Now, solving the eigenvalue and eigenvector equations, we get the following:"
   ]
  },
  {
   "cell_type": "code",
   "execution_count": 128,
   "metadata": {},
   "outputs": [],
   "source": [
    "# eigenvalues\n",
    "lambda1 = 1.\n",
    "lambda2 = 2.\n",
    "lambda3 = 5.\n",
    "\n",
    "# eigenvectors\n",
    "x1 = np.array([ 0.894,\n",
    "               -0.447,\n",
    "                0.])\n",
    "\n",
    "x2 = np.array([ 0.,\n",
    "                0.,\n",
    "                1.])\n",
    "\n",
    "x3 = np.array([ 0.894,\n",
    "                0.447,\n",
    "                0.])"
   ]
  },
  {
   "cell_type": "code",
   "execution_count": 131,
   "metadata": {},
   "outputs": [
    {
     "name": "stdout",
     "output_type": "stream",
     "text": [
      "[[ 1. -0.  0.]\n",
      " [-3.  5.  0.]\n",
      " [ 0.  0.  2.]]\n",
      "[[-0.447 -0.894  0.   ]\n",
      " [ 0.894 -0.447  0.   ]\n",
      " [ 0.     0.     1.   ]]\n"
     ]
    }
   ],
   "source": [
    "result = qr_factorization(A, 100)\n",
    "print(result[0])\n",
    "print(result[1])"
   ]
  },
  {
   "cell_type": "markdown",
   "metadata": {},
   "source": [
    "The  result above show us that the eigenvalues are computed correctly, however, the eigenvectors don't converge. (because A is no longer symetric)"
   ]
  },
  {
   "cell_type": "markdown",
   "metadata": {},
   "source": [
    "Lets take another case of study:"
   ]
  },
  {
   "cell_type": "code",
   "execution_count": 53,
   "metadata": {},
   "outputs": [],
   "source": [
    "A = np.array([[ 1, 1],\n",
    "              [-3, 1]])"
   ]
  },
  {
   "cell_type": "markdown",
   "metadata": {},
   "source": [
    "Notice that A eigenvalues are not real, but complex numbers. Thus, the algorithm does not converge (you can play with the number of iterations and see it not converging):"
   ]
  },
  {
   "cell_type": "code",
   "execution_count": 61,
   "metadata": {},
   "outputs": [
    {
     "name": "stdout",
     "output_type": "stream",
     "text": [
      "[[ 1.6  2.8]\n",
      " [-1.2  0.4]]\n",
      "[[-0.316 -0.949]\n",
      " [ 0.949 -0.316]]\n"
     ]
    }
   ],
   "source": [
    "result = qr_factorization(A, 100)\n",
    "print(result[0])\n",
    "print(result[1])"
   ]
  },
  {
   "cell_type": "markdown",
   "metadata": {},
   "source": [
    "In the last initial test, let's consider the following matrix:"
   ]
  },
  {
   "cell_type": "code",
   "execution_count": 62,
   "metadata": {},
   "outputs": [],
   "source": [
    "A = np.array([[ 3.   , 3.],\n",
    "              [ 0.333, 5.]])"
   ]
  },
  {
   "cell_type": "markdown",
   "metadata": {},
   "source": [
    "Again, solving the equations we get the following eigenvalues and eigenvectors:"
   ]
  },
  {
   "cell_type": "code",
   "execution_count": 64,
   "metadata": {},
   "outputs": [],
   "source": [
    "# eigenvalues\n",
    "lambda1 = 2.586\n",
    "lambda2 = 5.414\n",
    "\n",
    "# eigenvectors\n",
    "x1 = np.array([ 0.991,\n",
    "               -0.137])\n",
    "\n",
    "x2 = np.array([ 0.779,\n",
    "                0.627])"
   ]
  },
  {
   "cell_type": "markdown",
   "metadata": {},
   "source": [
    "And our algorithm give us the following result:"
   ]
  },
  {
   "cell_type": "code",
   "execution_count": 76,
   "metadata": {},
   "outputs": [
    {
     "name": "stdout",
     "output_type": "stream",
     "text": [
      "[[5.414 2.667]\n",
      " [0.    2.586]]\n",
      "[[ 0.779 -0.627]\n",
      " [ 0.627  0.779]]\n"
     ]
    }
   ],
   "source": [
    "result = qr_factorization(A, 100)\n",
    "print(result[0])\n",
    "print(result[1])"
   ]
  },
  {
   "cell_type": "markdown",
   "metadata": {},
   "source": [
    "## Computational tasks"
   ]
  },
  {
   "cell_type": "markdown",
   "metadata": {},
   "source": [
    "Let's consider the following matrix representing a vibration system composed of 5 masses:"
   ]
  },
  {
   "cell_type": "code",
   "execution_count": 120,
   "metadata": {},
   "outputs": [],
   "source": [
    "alfa1= 1\n",
    "alfa2= 1\n",
    "alfa3= 1\n",
    "alfa4= 1\n",
    "alfa5= 1\n",
    "\n",
    "A = np.array([[ -2*alfa1,    alfa1,       0.,       0.,      0.],\n",
    "              [    alfa2, -2*alfa2,    alfa2,       0.,       0.],\n",
    "              [       0.,    alfa3, -2*alfa3,    alfa3,       0.],\n",
    "              [       0.,        0.,   alfa4, -2*alfa4,    alfa4],\n",
    "              [       0.,        0.,       0.,   alfa5, -2*alfa5]])"
   ]
  },
  {
   "cell_type": "code",
   "execution_count": 121,
   "metadata": {},
   "outputs": [
    {
     "name": "stdout",
     "output_type": "stream",
     "text": [
      "[[-1.     0.    -0.     0.     0.   ]\n",
      " [ 0.    -2.     0.    -0.    -0.   ]\n",
      " [-0.     0.    -3.    -0.    -0.   ]\n",
      " [ 0.    -0.    -0.    -3.732  0.   ]\n",
      " [-0.    -0.    -0.    -0.    -0.268]]\n",
      "[[-0.5    0.577  0.5   -0.289  0.289]\n",
      " [-0.5   -0.    -0.5    0.5    0.5  ]\n",
      " [ 0.    -0.577 -0.    -0.577  0.577]\n",
      " [ 0.5    0.     0.5    0.5    0.5  ]\n",
      " [ 0.5    0.578 -0.5   -0.289  0.289]]\n"
     ]
    }
   ],
   "source": [
    "result = qr_factorization(A, 1000)\n",
    "print(result[0])\n",
    "print(result[1])"
   ]
  },
  {
   "cell_type": "markdown",
   "metadata": {},
   "source": [
    "Last, let's take the following matrix:"
   ]
  },
  {
   "cell_type": "code",
   "execution_count": 122,
   "metadata": {},
   "outputs": [],
   "source": [
    "A = np.array([[ -2,   1,   0,  0,  0,  0,  0],\n",
    "              [  1, -11,  10,  0,  0,  0,  0],\n",
    "              [  0,  10, -11,  1,  0,  0,  0],\n",
    "              [  0,   0,   1, -2,  1,  0,  0],\n",
    "              [  0,   0,  0,   1, -2,  1,  0],\n",
    "              [  0,   0,  0,   0,  1, -2,  1],\n",
    "              [  0,   0,  0,   0,  0,  1, -2]])"
   ]
  },
  {
   "cell_type": "code",
   "execution_count": 126,
   "metadata": {},
   "outputs": [
    {
     "name": "stdout",
     "output_type": "stream",
     "text": [
      "[[ -0.603  -0.      0.     -0.     -0.     -0.     -0.   ]\n",
      " [  0.     -1.476  -0.     -0.     -0.     -0.      0.   ]\n",
      " [  0.     -0.     -2.272   0.     -0.     -0.     -0.   ]\n",
      " [  0.     -0.      0.     -2.785   0.      0.      0.   ]\n",
      " [  0.     -0.     -0.     -0.     -3.648   0.     -0.   ]\n",
      " [  0.      0.      0.     -0.     -0.    -21.053  -0.   ]\n",
      " [  0.      0.      0.      0.      0.     -0.     -0.164]]\n",
      "[[-0.299  0.352  0.792 -0.322  0.06   0.037 -0.227]\n",
      " [-0.417  0.185 -0.215  0.253 -0.099 -0.706 -0.416]\n",
      " [-0.404  0.141 -0.267  0.24  -0.079  0.706 -0.428]\n",
      " [-0.027 -0.507 -0.178 -0.557  0.411 -0.037 -0.479]\n",
      " [ 0.366 -0.406  0.315  0.197 -0.599  0.002 -0.451]\n",
      " [ 0.538  0.294  0.093  0.402  0.575 -0.    -0.35 ]\n",
      " [ 0.386  0.56  -0.341 -0.513 -0.349  0.    -0.19 ]]\n"
     ]
    }
   ],
   "source": [
    "result = qr_factorization(A, 50000)\n",
    "print(result[0])\n",
    "print(result[1])"
   ]
  },
  {
   "cell_type": "code",
   "execution_count": null,
   "metadata": {},
   "outputs": [],
   "source": []
  }
 ],
 "metadata": {
  "kernelspec": {
   "display_name": "Python 3",
   "language": "python",
   "name": "python3"
  },
  "language_info": {
   "codemirror_mode": {
    "name": "ipython",
    "version": 3
   },
   "file_extension": ".py",
   "mimetype": "text/x-python",
   "name": "python",
   "nbconvert_exporter": "python",
   "pygments_lexer": "ipython3",
   "version": "3.7.1"
  }
 },
 "nbformat": 4,
 "nbformat_minor": 2
}
