{
 "cells": [
  {
   "cell_type": "markdown",
   "metadata": {},
   "source": [
    "# Eigenvalue problem"
   ]
  },
  {
   "cell_type": "markdown",
   "metadata": {},
   "source": [
    "### Initial tests:\n",
    "\n",
    "Given the matrix A above:"
   ]
  },
  {
   "cell_type": "code",
   "execution_count": 16,
   "metadata": {},
   "outputs": [],
   "source": [
    "import numpy as np\n",
    "\n",
    "A = np.array([[3, 4, 0],\n",
    "              [4, 3, 0],\n",
    "              [0, 0, 2]])"
   ]
  },
  {
   "cell_type": "markdown",
   "metadata": {},
   "source": [
    "Solving the characteristic equation:\n",
    "\n",
    "`det(A - λI) = 0`\n",
    "\n",
    "we get the following eigenvalues:"
   ]
  },
  {
   "cell_type": "code",
   "execution_count": 21,
   "metadata": {},
   "outputs": [],
   "source": [
    "lambda1 = -1\n",
    "lambda2 = 2\n",
    "lambda3 = 7"
   ]
  },
  {
   "cell_type": "markdown",
   "metadata": {},
   "source": [
    "Then, replacing those eigenvalues in `Ax = λx` we get the associated eigenvectors:"
   ]
  },
  {
   "cell_type": "code",
   "execution_count": 23,
   "metadata": {},
   "outputs": [],
   "source": [
    "# associated with lambda1 = -1\n",
    "x1 = np.array([0.7071,\n",
    "              -0.7071,\n",
    "               0.0000])\n",
    "\n",
    "\n",
    "# associated with lambda2 = 2\n",
    "x2 = np.array([0.2425,\n",
    "              -0.9701,\n",
    "               0.0000])\n",
    "\n",
    "# associated with lambda3 = 7\n",
    "x3 = np.array([0.7071,\n",
    "               0.7071,\n",
    "               0.0000])\n"
   ]
  },
  {
   "cell_type": "code",
   "execution_count": null,
   "metadata": {},
   "outputs": [],
   "source": []
  }
 ],
 "metadata": {
  "kernelspec": {
   "display_name": "Python 3",
   "language": "python",
   "name": "python3"
  },
  "language_info": {
   "codemirror_mode": {
    "name": "ipython",
    "version": 3
   },
   "file_extension": ".py",
   "mimetype": "text/x-python",
   "name": "python",
   "nbconvert_exporter": "python",
   "pygments_lexer": "ipython3",
   "version": "3.7.1"
  }
 },
 "nbformat": 4,
 "nbformat_minor": 2
}
