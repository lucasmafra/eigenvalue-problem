{
 "cells": [
  {
   "cell_type": "markdown",
   "metadata": {},
   "source": [
    "# Eigenvalue problem"
   ]
  },
  {
   "cell_type": "markdown",
   "metadata": {},
   "source": [
    "### Initial tests:\n",
    "\n",
    "Given the matrix A above:"
   ]
  },
  {
   "cell_type": "code",
   "execution_count": 427,
   "metadata": {},
   "outputs": [],
   "source": [
    "import numpy as np\n",
    "np.set_printoptions(precision=3)\n",
    "np.set_printoptions(suppress=True)\n",
    "import math\n",
    "\n",
    "A = np.array([[3, 4, 0],\n",
    "              [4, 3, 0],\n",
    "              [0, 0, 2]])"
   ]
  },
  {
   "cell_type": "markdown",
   "metadata": {},
   "source": [
    "Solving the characteristic equation `det(A - λI) = 0` we get the following eigenvalues:"
   ]
  },
  {
   "cell_type": "code",
   "execution_count": 428,
   "metadata": {},
   "outputs": [],
   "source": [
    "lambda1 = -1\n",
    "lambda2 = 2\n",
    "lambda3 = 7"
   ]
  },
  {
   "cell_type": "markdown",
   "metadata": {},
   "source": [
    "Then, replacing those eigenvalues in `Ax = λx` we get the following normalized associated eigenvectors:"
   ]
  },
  {
   "cell_type": "code",
   "execution_count": 641,
   "metadata": {},
   "outputs": [],
   "source": [
    "# associated with lambda1 = -1\n",
    "x1 = np.array([0.707,\n",
    "              -0.707,\n",
    "               0.])\n",
    "\n",
    "\n",
    "# associated with lambda2 = 2\n",
    "x2 = np.array([0.243,\n",
    "              -0.970,\n",
    "               0.])\n",
    "\n",
    "# associated with lambda3 = 7\n",
    "x3 = np.array([0.707,\n",
    "               0.707,\n",
    "               0.])\n"
   ]
  },
  {
   "cell_type": "markdown",
   "metadata": {},
   "source": [
    "Now that we have the exact solution, we'll use the QR method to find an approximate solution by leveraging the Householder transformation:"
   ]
  },
  {
   "cell_type": "code",
   "execution_count": 616,
   "metadata": {},
   "outputs": [],
   "source": [
    "def multiply_by_scalar(matrix, scalar):\n",
    "    result = np.zeros(shape=dimension_of(matrix))\n",
    "    for i in range(len(matrix)):\n",
    "        for j in range(len(matrix[0])):\n",
    "            result[i][j] = scalar * matrix[i][j]\n",
    "    return result    \n",
    "\n",
    "def scalar_product(a, b):\n",
    "    result = 0\n",
    "    for i in range(len(a[0])):\n",
    "        result += a[0][i]*b[0][i]\n",
    "    return result\n",
    "\n",
    "def multiply_matrixes(a, b):\n",
    "    m,n = dimension_of(a)\n",
    "    _,p = dimension_of(b)\n",
    "    result = np.zeros(shape=(m,p))\n",
    "    for i in range(m):\n",
    "        for j in range(p):\n",
    "            for k in range(n):\n",
    "                result[i][j] += a[i][k] * b[k][j]\n",
    "    return result                          \n",
    "\n",
    "def nth_identity(n):\n",
    "    return np.identity(n)\n",
    "\n",
    "def sum_matrixes(a, b):\n",
    "    result = np.zeros(shape=dimension_of(a))\n",
    "    for i in range(len(a)):\n",
    "        for j in range(len(a[0])):\n",
    "            result[i][j] += a[i][j] + b[i][j]\n",
    "    return result\n",
    "    \n",
    "def dimension_of(matrix):\n",
    "    return matrix.shape\n",
    "\n",
    "def nth_canonical_form(n, dimension):\n",
    "    zeros = np.zeros((1,dimension[1]))\n",
    "    zeros[0][n-1] = 1\n",
    "    return zeros\n",
    "\n",
    "def norm(v):\n",
    "    sum_square = 0\n",
    "    for i in v[0]:\n",
    "        sum_square += math.pow(i, 2)\n",
    "    return math.sqrt(sum_square)\n",
    "\n",
    "def compute_sigma(a): # by convention we're using the signal of first element\n",
    "    if a[0][0] >= 0:\n",
    "        return 1\n",
    "    return -1\n",
    "\n",
    "def compute_vi(A, i): # computes vi for finding the householder matrix\n",
    "    ai = np.array([A[:, i - 1]])\n",
    "    ei = nth_canonical_form(i, dimension_of(A))\n",
    "    sigma = compute_sigma(ai)\n",
    "    return sum_matrixes(ai, multiply_by_scalar(ei, sigma*(norm(ai))))\n",
    "\n",
    "def compute_hi(A, i): # computes householder matrix\n",
    "    vi = compute_vi(A, i)\n",
    "    scalar = -2/scalar_product(vi,vi)\n",
    "    matrix = multiply_matrixes(vi.transpose(), vi)\n",
    "    identity = nth_identity(dimension_of(A)[0])\n",
    "    return sum_matrixes(identity, multiply_by_scalar(matrix, scalar))\n",
    "\n",
    "def compute_h_list(A):\n",
    "    Ai = np.copy(A)\n",
    "    result = []\n",
    "    for i in range(1, len(A)):\n",
    "        Hi = compute_hi(Ai, i)\n",
    "        result.append(Hi)\n",
    "        Ai = multiply_matrixes(Hi, Ai)\n",
    "    return result\n",
    "\n",
    "def compute_qi(H_list):\n",
    "    Q = nth_identity(len(H_list[0]))\n",
    "    for i in range(len(H_list)):\n",
    "        Q = multiply_matrixes(Q, H_list[i])\n",
    "    return Q\n",
    "        \n",
    "def compute_ri(H_list, A):        \n",
    "    R = nth_identity(len(A))\n",
    "    for i in range(len(H_list)):\n",
    "        R = multiply_matrixes(R, H_list[len(H_list) - i -1])        \n",
    "    return multiply_matrixes(R, A)\n",
    "\n",
    "def qr_factorization(A, iterations):\n",
    "    Ai = np.copy(A)\n",
    "    Qi = nth_identity(dimension_of(A)[0])\n",
    "    Vi = np.copy(Qi)\n",
    "    for i in range(1,iterations+1):\n",
    "        H_list = compute_h_list(Ai)       \n",
    "        Ri = compute_ri(H_list, Ai)\n",
    "        Qi = compute_qi(H_list)\n",
    "        Vi = multiply_matrixes(Vi, Qi)\n",
    "        Ai = multiply_matrixes(Ri, Qi)\n",
    "    return Ai, Vi\n",
    "    "
   ]
  },
  {
   "cell_type": "code",
   "execution_count": 642,
   "metadata": {},
   "outputs": [
    {
     "name": "stdout",
     "output_type": "stream",
     "text": [
      "[[-1.  0.  0.]\n",
      " [ 0.  7.  0.]\n",
      " [ 0.  0.  2.]]\n",
      "[[-0.707 -0.707  0.   ]\n",
      " [ 0.707 -0.707  0.   ]\n",
      " [ 0.     0.     1.   ]]\n"
     ]
    }
   ],
   "source": [
    "result = qr_factorization(A, 200)\n",
    "print(result[0]) # matrix where the main diagonal elements are the eigenvalues\n",
    "print(result[1]) # matrix where the columns are the eigenvectors (if A is symetric)"
   ]
  },
  {
   "cell_type": "code",
   "execution_count": null,
   "metadata": {},
   "outputs": [],
   "source": []
  }
 ],
 "metadata": {
  "kernelspec": {
   "display_name": "Python 3",
   "language": "python",
   "name": "python3"
  },
  "language_info": {
   "codemirror_mode": {
    "name": "ipython",
    "version": 3
   },
   "file_extension": ".py",
   "mimetype": "text/x-python",
   "name": "python",
   "nbconvert_exporter": "python",
   "pygments_lexer": "ipython3",
   "version": "3.7.1"
  }
 },
 "nbformat": 4,
 "nbformat_minor": 2
}
